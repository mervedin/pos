{
 "cells": [
  {
   "cell_type": "code",
   "execution_count": 3,
   "metadata": {},
   "outputs": [],
   "source": [
    "import pandas as pd\n",
    "import numpy as np\n",
    "\n",
    "data = pd.read_csv(\"tagged.csv\")"
   ]
  },
  {
   "cell_type": "code",
   "execution_count": 10,
   "metadata": {},
   "outputs": [
    {
     "data": {
      "text/html": [
       "<div>\n",
       "<style scoped>\n",
       "    .dataframe tbody tr th:only-of-type {\n",
       "        vertical-align: middle;\n",
       "    }\n",
       "\n",
       "    .dataframe tbody tr th {\n",
       "        vertical-align: top;\n",
       "    }\n",
       "\n",
       "    .dataframe thead th {\n",
       "        text-align: right;\n",
       "    }\n",
       "</style>\n",
       "<table border=\"1\" class=\"dataframe\">\n",
       "  <thead>\n",
       "    <tr style=\"text-align: right;\">\n",
       "      <th></th>\n",
       "      <th>doc_no</th>\n",
       "      <th>sentence_no</th>\n",
       "      <th>word</th>\n",
       "      <th>tag</th>\n",
       "    </tr>\n",
       "  </thead>\n",
       "  <tbody>\n",
       "    <tr>\n",
       "      <th>0</th>\n",
       "      <td>1400</td>\n",
       "      <td>0</td>\n",
       "      <td>Su</td>\n",
       "      <td>NOUN</td>\n",
       "    </tr>\n",
       "    <tr>\n",
       "      <th>1</th>\n",
       "      <td>1400</td>\n",
       "      <td>0</td>\n",
       "      <td>altının</td>\n",
       "      <td>NOUN</td>\n",
       "    </tr>\n",
       "    <tr>\n",
       "      <th>2</th>\n",
       "      <td>1400</td>\n",
       "      <td>0</td>\n",
       "      <td>son</td>\n",
       "      <td>ADJ</td>\n",
       "    </tr>\n",
       "    <tr>\n",
       "      <th>3</th>\n",
       "      <td>1400</td>\n",
       "      <td>0</td>\n",
       "      <td>60</td>\n",
       "      <td>NUM</td>\n",
       "    </tr>\n",
       "    <tr>\n",
       "      <th>4</th>\n",
       "      <td>1400</td>\n",
       "      <td>0</td>\n",
       "      <td>yılı</td>\n",
       "      <td>NOUN</td>\n",
       "    </tr>\n",
       "  </tbody>\n",
       "</table>\n",
       "</div>"
      ],
      "text/plain": [
       "   doc_no  sentence_no     word   tag\n",
       "0    1400            0       Su  NOUN\n",
       "1    1400            0  altının  NOUN\n",
       "2    1400            0      son   ADJ\n",
       "3    1400            0       60   NUM\n",
       "4    1400            0     yılı  NOUN"
      ]
     },
     "execution_count": 10,
     "metadata": {},
     "output_type": "execute_result"
    }
   ],
   "source": [
    "data.head()"
   ]
  },
  {
   "cell_type": "code",
   "execution_count": 9,
   "metadata": {},
   "outputs": [],
   "source": [
    "data=data.drop(\"Unnamed: 0\", axis=1)"
   ]
  },
  {
   "cell_type": "code",
   "execution_count": 14,
   "metadata": {},
   "outputs": [
    {
     "data": {
      "text/plain": [
       "108"
      ]
     },
     "execution_count": 14,
     "metadata": {},
     "output_type": "execute_result"
    }
   ],
   "source": [
    "words = list(set(data[\"word\"].values))\n",
    "n_words = len(words); n_words"
   ]
  },
  {
   "cell_type": "code",
   "execution_count": 15,
   "metadata": {},
   "outputs": [
    {
     "data": {
      "text/plain": [
       "11"
      ]
     },
     "execution_count": 15,
     "metadata": {},
     "output_type": "execute_result"
    }
   ],
   "source": [
    "tags = list(set(data[\"tag\"].values))\n",
    "n_tags = len(tags); n_tags"
   ]
  },
  {
   "cell_type": "code",
   "execution_count": 40,
   "metadata": {},
   "outputs": [],
   "source": [
    "class SentenceGetter(object):\n",
    "    \n",
    "    def __init__(self, data):\n",
    "        self.n_sent = 1\n",
    "        self.data = data\n",
    "        self.empty = False\n",
    "        agg_func = lambda s: [(w, t) for w, t in zip(s[\"word\"].values.tolist(),\n",
    "                                                           s[\"tag\"].values.tolist())]\n",
    "        self.grouped = self.data.groupby(\"sentence_no\").apply(agg_func)\n",
    "        self.sentences = [s for s in self.grouped]"
   ]
  },
  {
   "cell_type": "code",
   "execution_count": 41,
   "metadata": {},
   "outputs": [],
   "source": [
    "getter = SentenceGetter(data)"
   ]
  },
  {
   "cell_type": "code",
   "execution_count": 42,
   "metadata": {},
   "outputs": [
    {
     "data": {
      "text/plain": [
       "[[('Su', 'NOUN'),\n",
       "  ('altının', 'NOUN'),\n",
       "  ('son', 'ADJ'),\n",
       "  ('60', 'NUM'),\n",
       "  ('yılı', 'NOUN'),\n",
       "  ('aydınlanıyor.', 'Guess')],\n",
       " [(\"Türkiye'de\", 'NOUN'),\n",
       "  ('su', 'NOUN'),\n",
       "  ('altının', 'NOUN'),\n",
       "  ('gizemli', 'NOUN'),\n",
       "  ('dünyasını', 'NOUN'),\n",
       "  ('ilk', 'ADJ'),\n",
       "  ('kez', 'NOUN'),\n",
       "  ('fotoğraflayan', 'VERB'),\n",
       "  ('sanatçıların', 'NOUN'),\n",
       "  ('eserlerinin', 'NOUN'),\n",
       "  ('yer', 'VERB'),\n",
       "  ('aldığı', 'VERB'),\n",
       "  ('\"1952-2012', '?'),\n",
       "  ('Sualtına', 'NOUN'),\n",
       "  ('Işık', 'NOUN'),\n",
       "  ('Tutanlar\"', '?'),\n",
       "  ('sergisi,', 'Guess'),\n",
       "  ('8', 'NUM'),\n",
       "  (\"Kasım'da\", 'NOUN'),\n",
       "  ('Rezan', 'NOUN'),\n",
       "  ('Has', 'ADJ'),\n",
       "  (\"Müzesi'nde\", 'NOUN'),\n",
       "  ('açılacak.', 'Guess')],\n",
       " [('60', 'NUM'),\n",
       "  ('yıllık', 'ADJ'),\n",
       "  ('bir', 'ADV'),\n",
       "  ('hikayenin', 'NOUN'),\n",
       "  ('anlatıldığı', 'VERB'),\n",
       "  ('sergide,', 'Guess'),\n",
       "  (\"Türkiye'de\", 'NOUN'),\n",
       "  ('su', 'NOUN'),\n",
       "  ('altında', 'NOUN'),\n",
       "  ('ilk', 'ADJ'),\n",
       "  ('kez', 'NOUN'),\n",
       "  ('deklanşöre', 'NOUN'),\n",
       "  ('basan', 'NOUN'),\n",
       "  ('Rasim', 'NOUN'),\n",
       "  ('Divanlı,', '?'),\n",
       "  ('Mustafa', 'NOUN'),\n",
       "  ('Kapkın,', '?'),\n",
       "  ('Yalçın', 'ADJ'),\n",
       "  ('Haraçoğlu,', '?'),\n",
       "  ('Zareh', 'Guess'),\n",
       "  ('Magar,', '?'),\n",
       "  ('Baskın', 'NOUN'),\n",
       "  ('Sokulluoğlu', 'Guess'),\n",
       "  ('ve', 'CONJ'),\n",
       "  ('Tosun', 'NOUN'),\n",
       "  (\"Sezen'den\", 'NOUN'),\n",
       "  (\"Türkiye'nin\", 'NOUN'),\n",
       "  ('ödüllü', 'NOUN'),\n",
       "  ('ve', 'CONJ'),\n",
       "  ('önemli', 'NOUN'),\n",
       "  ('su', 'NOUN'),\n",
       "  ('altı', 'NOUN'),\n",
       "  ('fotoğraf', 'NOUN'),\n",
       "  ('sanatçılarına', 'NOUN'),\n",
       "  ('kadar', 'ADP'),\n",
       "  ('oldukça', 'ADV'),\n",
       "  ('uzun', 'ADJ'),\n",
       "  ('bir', 'ADV'),\n",
       "  ('dönemi', 'NOUN'),\n",
       "  ('kapsayan', 'VERB'),\n",
       "  ('eserler', 'VERB'),\n",
       "  ('yer', 'VERB'),\n",
       "  ('alacak.', 'Guess')],\n",
       " [('Sanatçıların', 'NOUN'),\n",
       "  ('kendilerinde', 'PRON'),\n",
       "  ('iz', 'NOUN'),\n",
       "  ('bırakan', 'VERB'),\n",
       "  ('en', 'ADV'),\n",
       "  ('önemli', 'NOUN'),\n",
       "  ('karelerine', 'NOUN'),\n",
       "  ('yer', 'VERB'),\n",
       "  ('verilen', 'VERB'),\n",
       "  ('bu', 'DET'),\n",
       "  ('proje,', 'Guess'),\n",
       "  (\"Türkiye'nin\", 'NOUN'),\n",
       "  ('su', 'NOUN'),\n",
       "  ('altı', 'NOUN'),\n",
       "  ('fotoğrafçılığı', 'NOUN'),\n",
       "  ('tarihinden', 'NOUN'),\n",
       "  ('yola', 'VERB'),\n",
       "  ('çıkarak,', 'Guess'),\n",
       "  (\"1950'lerden\", 'NUM'),\n",
       "  ('günümüze', 'NOUN'),\n",
       "  ('kadar', 'ADP'),\n",
       "  ('Türkiye', 'NOUN'),\n",
       "  ('ve', 'CONJ'),\n",
       "  ('dünya', 'NOUN'),\n",
       "  ('denizlerindeki', 'NOUN'),\n",
       "  ('su', 'NOUN'),\n",
       "  ('altı', 'NOUN'),\n",
       "  ('yaşamını', 'NOUN'),\n",
       "  ('gözler', 'NOUN'),\n",
       "  ('önüne', 'NOUN'),\n",
       "  ('seriyor.', 'Guess')],\n",
       " [(\"90'a\", 'NUM'),\n",
       "  ('yakın', 'VERB'),\n",
       "  ('fotoğraf', 'NOUN'),\n",
       "  ('sanatçısının', 'NOUN'),\n",
       "  ('çalışmasının', 'NOUN'),\n",
       "  ('yer', 'VERB'),\n",
       "  ('alacağı', 'VERB'),\n",
       "  ('sergide,', 'Guess'),\n",
       "  ('Engin', 'ADJ'),\n",
       "  ('Aygün,', '?'),\n",
       "  ('Bengiz', 'NOUN'),\n",
       "  ('Özdereli', 'NOUN'),\n",
       "  ('ve', 'CONJ'),\n",
       "  ('Saki', 'NOUN'),\n",
       "  (\"Uğurlu'nun\", 'NOUN'),\n",
       "  ('belgesel', 'ADJ'),\n",
       "  ('çalışmaları', 'NOUN'),\n",
       "  ('da', 'CONJ'),\n",
       "  ('gösterilecek.', 'Guess')],\n",
       " [('Küratörlüğünü', 'NOUN'),\n",
       "  ('Saygun', 'NOUN'),\n",
       "  (\"Dura'nın\", 'NOUN'),\n",
       "  ('üstlendiği', 'VERB'),\n",
       "  ('sergi,', 'Guess'),\n",
       "  ('28', 'NUM'),\n",
       "  (\"Şubat'a\", 'NOUN'),\n",
       "  ('kadar', 'ADP'),\n",
       "  ('ziyaret', 'NOUN'),\n",
       "  ('edilebilecek.', 'Guess')]]"
      ]
     },
     "execution_count": 42,
     "metadata": {},
     "output_type": "execute_result"
    }
   ],
   "source": [
    "sentences = getter.sentences; sentences"
   ]
  },
  {
   "cell_type": "code",
   "execution_count": 43,
   "metadata": {},
   "outputs": [
    {
     "data": {
      "text/plain": [
       "[('Su', 'NOUN'),\n",
       " ('altının', 'NOUN'),\n",
       " ('son', 'ADJ'),\n",
       " ('60', 'NUM'),\n",
       " ('yılı', 'NOUN'),\n",
       " ('aydınlanıyor.', 'Guess')]"
      ]
     },
     "execution_count": 43,
     "metadata": {},
     "output_type": "execute_result"
    }
   ],
   "source": [
    "sentences[0]"
   ]
  },
  {
   "cell_type": "code",
   "execution_count": 23,
   "metadata": {},
   "outputs": [],
   "source": [
    "agg_func = lambda s: [(w, t) for w, t in zip(s[\"word\"].values.tolist(),\n",
    "                                                           s[\"tag\"].values.tolist())]"
   ]
  },
  {
   "cell_type": "code",
   "execution_count": 25,
   "metadata": {},
   "outputs": [
    {
     "data": {
      "text/plain": [
       "[('Su', 'NOUN'),\n",
       " ('altının', 'NOUN'),\n",
       " ('son', 'ADJ'),\n",
       " ('60', 'NUM'),\n",
       " ('yılı', 'NOUN'),\n",
       " ('aydınlanıyor.', 'Guess')]"
      ]
     },
     "execution_count": 25,
     "metadata": {},
     "output_type": "execute_result"
    }
   ],
   "source": [
    "data.groupby(\"sentence_no\").apply(agg_func)[0]"
   ]
  },
  {
   "cell_type": "code",
   "execution_count": null,
   "metadata": {},
   "outputs": [],
   "source": []
  }
 ],
 "metadata": {
  "kernelspec": {
   "display_name": "Python 3",
   "language": "python",
   "name": "python3"
  },
  "language_info": {
   "codemirror_mode": {
    "name": "ipython",
    "version": 3
   },
   "file_extension": ".py",
   "mimetype": "text/x-python",
   "name": "python",
   "nbconvert_exporter": "python",
   "pygments_lexer": "ipython3",
   "version": "3.7.6"
  }
 },
 "nbformat": 4,
 "nbformat_minor": 4
}
