{
 "cells": [
  {
   "cell_type": "code",
   "execution_count": 1,
   "metadata": {},
   "outputs": [],
   "source": [
    "import numpy as np\n",
    "import pandas as pd"
   ]
  },
  {
   "cell_type": "code",
   "execution_count": 2,
   "metadata": {},
   "outputs": [],
   "source": [
    "data=pd.read_csv(\"7allV03.csv\")"
   ]
  },
  {
   "cell_type": "code",
   "execution_count": 3,
   "metadata": {},
   "outputs": [
    {
     "data": {
      "text/html": [
       "<div>\n",
       "<style scoped>\n",
       "    .dataframe tbody tr th:only-of-type {\n",
       "        vertical-align: middle;\n",
       "    }\n",
       "\n",
       "    .dataframe tbody tr th {\n",
       "        vertical-align: top;\n",
       "    }\n",
       "\n",
       "    .dataframe thead th {\n",
       "        text-align: right;\n",
       "    }\n",
       "</style>\n",
       "<table border=\"1\" class=\"dataframe\">\n",
       "  <thead>\n",
       "    <tr style=\"text-align: right;\">\n",
       "      <th></th>\n",
       "      <th>category</th>\n",
       "      <th>text</th>\n",
       "    </tr>\n",
       "  </thead>\n",
       "  <tbody>\n",
       "    <tr>\n",
       "      <th>0</th>\n",
       "      <td>siyaset</td>\n",
       "      <td>3 milyon ile ön seçim vaadi mhp nin 10 olağan...</td>\n",
       "    </tr>\n",
       "    <tr>\n",
       "      <th>1</th>\n",
       "      <td>siyaset</td>\n",
       "      <td>mesut_yılmaz yüce_divan da ceza alabilirdi pr...</td>\n",
       "    </tr>\n",
       "    <tr>\n",
       "      <th>2</th>\n",
       "      <td>siyaset</td>\n",
       "      <td>disko lar kaldırılıyor başbakan_yardımcısı ar...</td>\n",
       "    </tr>\n",
       "    <tr>\n",
       "      <th>3</th>\n",
       "      <td>siyaset</td>\n",
       "      <td>sarıgül anayasa_mahkemesi ne gidiyor mustafa_...</td>\n",
       "    </tr>\n",
       "    <tr>\n",
       "      <th>4</th>\n",
       "      <td>siyaset</td>\n",
       "      <td>erdoğan idamın bir haklılık sebebi var demek ...</td>\n",
       "    </tr>\n",
       "  </tbody>\n",
       "</table>\n",
       "</div>"
      ],
      "text/plain": [
       "   category                                               text\n",
       "0  siyaset    3 milyon ile ön seçim vaadi mhp nin 10 olağan...\n",
       "1  siyaset    mesut_yılmaz yüce_divan da ceza alabilirdi pr...\n",
       "2  siyaset    disko lar kaldırılıyor başbakan_yardımcısı ar...\n",
       "3  siyaset    sarıgül anayasa_mahkemesi ne gidiyor mustafa_...\n",
       "4  siyaset    erdoğan idamın bir haklılık sebebi var demek ..."
      ]
     },
     "execution_count": 3,
     "metadata": {},
     "output_type": "execute_result"
    }
   ],
   "source": [
    "data.head()"
   ]
  },
  {
   "cell_type": "code",
   "execution_count": 4,
   "metadata": {},
   "outputs": [
    {
     "data": {
      "text/plain": [
       "siyaset       700\n",
       "teknoloji     700\n",
       "dunya         700\n",
       "saglik        700\n",
       "ekonomi       700\n",
       "spor          700\n",
       "kultur        700\n",
       "Name: category, dtype: int64"
      ]
     },
     "execution_count": 4,
     "metadata": {},
     "output_type": "execute_result"
    }
   ],
   "source": [
    "data[\"category\"].value_counts()"
   ]
  },
  {
   "cell_type": "code",
   "execution_count": 5,
   "metadata": {},
   "outputs": [
    {
     "data": {
      "text/plain": [
       "array(['siyaset ', 'dunya ', 'ekonomi ', 'kultur ', 'saglik ', 'spor ',\n",
       "       'teknoloji '], dtype=object)"
      ]
     },
     "execution_count": 5,
     "metadata": {},
     "output_type": "execute_result"
    }
   ],
   "source": [
    "data.category.unique()"
   ]
  },
  {
   "cell_type": "code",
   "execution_count": 6,
   "metadata": {},
   "outputs": [],
   "source": [
    "df_kultur=data[data[\"category\"]==\"kultur \"]"
   ]
  },
  {
   "cell_type": "raw",
   "metadata": {},
   "source": [
    "df_kultur.shape"
   ]
  },
  {
   "cell_type": "code",
   "execution_count": 7,
   "metadata": {},
   "outputs": [
    {
     "data": {
      "text/plain": [
       "' su altının son 60 yılı aydınlanıyor türkiye de su altının gizemli dünyasını ilk kez fotoğraflayan sanatçıların eserlerinin yer aldığı 1952 2012 sualtına işık tutanlar sergisi 8 kasım da rezan has müzesi nde açılacak 60 yıllık bir hikayenin anlatıldığı sergide türkiye de su altında ilk kez deklanşöre basan rasim divanlı mustafa kapkın yalçın haraçoğlu zareh magar baskın sokulluoğlu ve tosun sezen den türkiye nin ödüllü ve önemli su altı fotoğraf sanatçılarına kadar oldukça uzun bir dönemi kapsayan eserler yer alacak sanatçıların kendilerinde iz bırakan en önemli karelerine yer verilen bu proje türkiye nin su altı fotoğrafçılığı tarihinden yola çıkarak 1950 lerden günümüze kadar türkiye ve dünya denizlerindeki su altı yaşamını gözler önüne seriyor 90 a yakın fotoğraf sanatçısının çalışmasının yer alacağı sergide engin aygün bengiz özdereli ve saki uğurlu nun belgesel çalışmaları da gösterilecek küratörlüğünü saygun dura nın üstlendiği sergi 28 şubat a kadar ziyaret edilebilecek'"
      ]
     },
     "execution_count": 7,
     "metadata": {},
     "output_type": "execute_result"
    }
   ],
   "source": [
    "df_kultur.iloc[0,1]"
   ]
  },
  {
   "cell_type": "code",
   "execution_count": 8,
   "metadata": {},
   "outputs": [],
   "source": [
    "##################################################################################################################"
   ]
  },
  {
   "cell_type": "code",
   "execution_count": 9,
   "metadata": {},
   "outputs": [],
   "source": [
    "import numpy as np\n",
    "import pandas as pd"
   ]
  },
  {
   "cell_type": "code",
   "execution_count": 10,
   "metadata": {},
   "outputs": [],
   "source": [
    "def find_tag(line):\n",
    "    print(line)\n",
    "    tag=line.split()[1]\n",
    "    start=tag.find(\"+\")+1\n",
    "    if tag[start:].find(\"+\")==-1:\n",
    "        tag=tag[start:]\n",
    "    else:\n",
    "        end=tag[start:].find(\"+\")+start\n",
    "        tag=tag[start:end]\n",
    "    return tag"
   ]
  },
  {
   "cell_type": "code",
   "execution_count": 11,
   "metadata": {},
   "outputs": [],
   "source": [
    "def tag(doc_no, filename):\n",
    "    file = open(filename, \"r\")\n",
    "    f=file.read()\n",
    "    lines=f.split(\"\\n\")\n",
    "    doc={\"doc_no\":[], \"sentence_no\":[], \"word\":[], \"tag\":[]}\n",
    "    sentence_no=0\n",
    "    for line in lines:\n",
    "        if(line!=\"\"):\n",
    "            if line.split()[0]!=\"</S>\" and line.split()[0]!=\"<S>\": \n",
    "                doc[\"doc_no\"].append(doc_no)\n",
    "                doc[\"sentence_no\"].append(sentence_no)\n",
    "                doc[\"word\"].append(line.split()[0])\n",
    "                doc[\"tag\"].append(find_tag(line))\n",
    "                if(line.split()[0].find(\".\")!=-1):\n",
    "                    sentence_no+=1\n",
    "    return doc"
   ]
  },
  {
   "cell_type": "code",
   "execution_count": 12,
   "metadata": {},
   "outputs": [],
   "source": [
    "%%capture\n",
    "doc=tag(doc_no=1400, filename=\"kultur1_etiketli.txt\")"
   ]
  },
  {
   "cell_type": "code",
   "execution_count": 13,
   "metadata": {},
   "outputs": [
    {
     "data": {
      "text/html": [
       "<div>\n",
       "<style scoped>\n",
       "    .dataframe tbody tr th:only-of-type {\n",
       "        vertical-align: middle;\n",
       "    }\n",
       "\n",
       "    .dataframe tbody tr th {\n",
       "        vertical-align: top;\n",
       "    }\n",
       "\n",
       "    .dataframe thead th {\n",
       "        text-align: right;\n",
       "    }\n",
       "</style>\n",
       "<table border=\"1\" class=\"dataframe\">\n",
       "  <thead>\n",
       "    <tr style=\"text-align: right;\">\n",
       "      <th></th>\n",
       "      <th>doc_no</th>\n",
       "      <th>sentence_no</th>\n",
       "      <th>word</th>\n",
       "      <th>tag</th>\n",
       "    </tr>\n",
       "  </thead>\n",
       "  <tbody>\n",
       "    <tr>\n",
       "      <th>0</th>\n",
       "      <td>1400</td>\n",
       "      <td>0</td>\n",
       "      <td>Su</td>\n",
       "      <td>Noun</td>\n",
       "    </tr>\n",
       "    <tr>\n",
       "      <th>1</th>\n",
       "      <td>1400</td>\n",
       "      <td>0</td>\n",
       "      <td>altının</td>\n",
       "      <td>Noun</td>\n",
       "    </tr>\n",
       "    <tr>\n",
       "      <th>2</th>\n",
       "      <td>1400</td>\n",
       "      <td>0</td>\n",
       "      <td>son</td>\n",
       "      <td>Adj</td>\n",
       "    </tr>\n",
       "    <tr>\n",
       "      <th>3</th>\n",
       "      <td>1400</td>\n",
       "      <td>0</td>\n",
       "      <td>60</td>\n",
       "      <td>Adj</td>\n",
       "    </tr>\n",
       "    <tr>\n",
       "      <th>4</th>\n",
       "      <td>1400</td>\n",
       "      <td>0</td>\n",
       "      <td>yılı</td>\n",
       "      <td>Noun</td>\n",
       "    </tr>\n",
       "    <tr>\n",
       "      <th>...</th>\n",
       "      <td>...</td>\n",
       "      <td>...</td>\n",
       "      <td>...</td>\n",
       "      <td>...</td>\n",
       "    </tr>\n",
       "    <tr>\n",
       "      <th>127</th>\n",
       "      <td>1400</td>\n",
       "      <td>5</td>\n",
       "      <td>28</td>\n",
       "      <td>Adj</td>\n",
       "    </tr>\n",
       "    <tr>\n",
       "      <th>128</th>\n",
       "      <td>1400</td>\n",
       "      <td>5</td>\n",
       "      <td>Şubat'a</td>\n",
       "      <td>Noun</td>\n",
       "    </tr>\n",
       "    <tr>\n",
       "      <th>129</th>\n",
       "      <td>1400</td>\n",
       "      <td>5</td>\n",
       "      <td>kadar</td>\n",
       "      <td>Postp</td>\n",
       "    </tr>\n",
       "    <tr>\n",
       "      <th>130</th>\n",
       "      <td>1400</td>\n",
       "      <td>5</td>\n",
       "      <td>ziyaret</td>\n",
       "      <td>Noun</td>\n",
       "    </tr>\n",
       "    <tr>\n",
       "      <th>131</th>\n",
       "      <td>1400</td>\n",
       "      <td>5</td>\n",
       "      <td>edilebilecek.</td>\n",
       "      <td>Guess</td>\n",
       "    </tr>\n",
       "  </tbody>\n",
       "</table>\n",
       "<p>132 rows × 4 columns</p>\n",
       "</div>"
      ],
      "text/plain": [
       "     doc_no  sentence_no           word    tag\n",
       "0      1400            0             Su   Noun\n",
       "1      1400            0        altının   Noun\n",
       "2      1400            0            son    Adj\n",
       "3      1400            0             60    Adj\n",
       "4      1400            0           yılı   Noun\n",
       "..      ...          ...            ...    ...\n",
       "127    1400            5             28    Adj\n",
       "128    1400            5        Şubat'a   Noun\n",
       "129    1400            5          kadar  Postp\n",
       "130    1400            5        ziyaret   Noun\n",
       "131    1400            5  edilebilecek.  Guess\n",
       "\n",
       "[132 rows x 4 columns]"
      ]
     },
     "execution_count": 13,
     "metadata": {},
     "output_type": "execute_result"
    }
   ],
   "source": [
    "df=pd.DataFrame(doc)\n",
    "df"
   ]
  },
  {
   "cell_type": "code",
   "execution_count": null,
   "metadata": {},
   "outputs": [],
   "source": []
  }
 ],
 "metadata": {
  "kernelspec": {
   "display_name": "Python 3",
   "language": "python",
   "name": "python3"
  },
  "language_info": {
   "codemirror_mode": {
    "name": "ipython",
    "version": 3
   },
   "file_extension": ".py",
   "mimetype": "text/x-python",
   "name": "python",
   "nbconvert_exporter": "python",
   "pygments_lexer": "ipython3",
   "version": "3.7.6"
  }
 },
 "nbformat": 4,
 "nbformat_minor": 4
}
